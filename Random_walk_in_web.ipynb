{
  "nbformat": 4,
  "nbformat_minor": 0,
  "metadata": {
    "colab": {
      "name": "Random_walk_in_web.ipynb",
      "provenance": [],
      "collapsed_sections": []
    },
    "kernelspec": {
      "name": "python3",
      "display_name": "Python 3"
    }
  },
  "cells": [
    {
      "cell_type": "markdown",
      "metadata": {
        "id": "ZKdYQeKniTkP",
        "colab_type": "text"
      },
      "source": [
        "# Random Web Surfer Model (PageRank Algorithm)"
      ]
    },
    {
      "cell_type": "markdown",
      "metadata": {
        "id": "qJpyIdgukl51",
        "colab_type": "text"
      },
      "source": [
        "PageRank algorithm is an algorithm that is used in web searches to handle queries. It ranks web pages for search engines based on interactions (links) between web pages. In this post, I am going to describe the algorithm, run a network simulation (random walk) as an experiment, and use spectral analysis to validate the result of the experiment."
      ]
    },
    {
      "cell_type": "markdown",
      "metadata": {
        "id": "qNFptSuLiyhL",
        "colab_type": "text"
      },
      "source": [
        "### Link Analysis"
      ]
    },
    {
      "cell_type": "markdown",
      "metadata": {
        "id": "u-GcJFFGl4om",
        "colab_type": "text"
      },
      "source": [
        "There is a natural way to think of the web search problem: the importance of a page is voted by the links that direct to that page. If a page is \"referred\" by a lot of other pages, then we are confident to say that this page is of great importance. This rule is applicable to all pages on the Web, and it entails two factors of the ranking algorithm: first, a page is important if it receives a lot of \"votes\" from other pages; second, a page is important if its \"voters\" are important."
      ]
    },
    {
      "cell_type": "markdown",
      "metadata": {
        "id": "4f_OQtiJni0g",
        "colab_type": "text"
      },
      "source": [
        "#### Hubs and Authorities"
      ]
    },
    {
      "cell_type": "markdown",
      "metadata": {
        "id": "KcR6Q1R1nvId",
        "colab_type": "text"
      },
      "source": [
        "Based on the two factors mentioned above, we have two definitions here."
      ]
    },
    {
      "cell_type": "markdown",
      "metadata": {
        "id": "o4tn3N15n4sB",
        "colab_type": "text"
      },
      "source": [
        "**Hubs**: Top \"voters\" in the network. Hubs can send links (votes) with greater weights to other pages.\n",
        "\n",
        "**Authorities**: Top \"candidates\" in the network. Authorities are the highly-endorsed pages."
      ]
    },
    {
      "cell_type": "markdown",
      "metadata": {
        "id": "EJgwYahknr6U",
        "colab_type": "text"
      },
      "source": [
        "Then, we can update the authority scores and hub scores for each page using the following algorithm."
      ]
    },
    {
      "cell_type": "markdown",
      "metadata": {
        "id": "OeBF3bR3BGFb",
        "colab_type": "text"
      },
      "source": [
        "\n",
        "\n",
        "1.   Initialize every page p's authority score $a_i$ and hub score $h_i$ to 1.\n",
        "2.   For each page $i$, update $a_i$ as $\\sum_j{h_j}$ for all nodes $j$ that points at $i.$\n",
        "3.   For each page $i$, update $h_i$ as $\\sum_j{a_j}$ for all nodes $j$ that $i$ points at.\n",
        "\n",
        "Repeatedly run this algorithms to update the scores. The final scores will converge to a value that reflect the authority and hub scores of each node."
      ]
    },
    {
      "cell_type": "markdown",
      "metadata": {
        "id": "uR9guQnyCwXg",
        "colab_type": "text"
      },
      "source": [
        "#### PageRank Algorithm"
      ]
    },
    {
      "cell_type": "markdown",
      "metadata": {
        "id": "UmccjN09CubR",
        "colab_type": "text"
      },
      "source": [
        "The PageRank algorithm:\n",
        "\n",
        "\n",
        "\n",
        "1.   Initialize each node with a value of 1.\n",
        "2.   Assign the edges coming from each node a value of $1/c$, where $c$ indicates the number of edges coming out from the node.\n",
        "3.   Perform k iterations of updates.\n",
        "\n"
      ]
    },
    {
      "cell_type": "markdown",
      "metadata": {
        "id": "bzd8F4V3Drq0",
        "colab_type": "text"
      },
      "source": [
        "The update rule is similar to that described in the previous section:\n",
        "\n",
        "Denote the value of each page as $\\lambda_i,$ the number of edge it receives as $a_i$ and the number of edges it sends out as $c_i.$ For each edge it sends out, the value transmitted is $\\lambda_i/c_i$. For each node, the update the value as the sum of all the edges it receives $\\lambda_i^*=\\sum_{j=0}^{a_i}\\text{Value}(a_i)$"
      ]
    },
    {
      "cell_type": "markdown",
      "metadata": {
        "id": "1bfwD9Kwaczk",
        "colab_type": "text"
      },
      "source": [
        "#### Algorithm implementation"
      ]
    },
    {
      "cell_type": "code",
      "metadata": {
        "id": "98TUxUP8ahXp",
        "colab_type": "code",
        "colab": {}
      },
      "source": [
        "import networkx as nx\n",
        "import random\n",
        "import numpy as np\n",
        "\n",
        "G = nx.generators.directed.gnr_graph(100,p=0.2) # Construct a graph with 100 nodes.\n",
        "\n",
        "\n",
        "v = random.randint(1,99)\n",
        "G.add_edge(0,v)\n",
        "\n",
        "\n",
        "G_validate = G\n",
        "\n",
        "# Initialize lambda\n",
        "nx.set_node_attributes(G,1.0,'Lambda') # Initialize the nodes values to 1\n",
        "\n",
        "# Initialize edge weights using lambda\n",
        "edge_init = {}\n",
        "for edge in G.edges():\n",
        "    start = edge[0]\n",
        "    edge_val = G.nodes[start]['Lambda']/len(G[start])\n",
        "\n",
        "    edge_init[edge] = edge_val\n",
        "\n",
        "nx.set_edge_attributes(G,edge_init,'weight')"
      ],
      "execution_count": 0,
      "outputs": []
    },
    {
      "cell_type": "code",
      "metadata": {
        "id": "zlBVSyPiQ7m5",
        "colab_type": "code",
        "colab": {}
      },
      "source": [
        "# Algorithm\n",
        "\n",
        "for _ in range(1000):\n",
        "    for node in range(100):\n",
        "        predecessor = G.pred[node]\n",
        "        successor = G[node]\n",
        "\n",
        "        # Update node value\n",
        "        G.nodes[node]['Lambda'] = np.sum([edge['weight'] for edge in list(G.pred[node].values())])\n",
        "\n",
        "        # Update edge value\n",
        "        message_node = G.nodes[node]['Lambda']/len(G[node])\n",
        "        for edge in list(G[node].values()):\n",
        "            edge['weight'] = message_node"
      ],
      "execution_count": 0,
      "outputs": []
    },
    {
      "cell_type": "code",
      "metadata": {
        "id": "NEq4sd0skbj6",
        "colab_type": "code",
        "outputId": "8ce40f5a-5244-4a19-b586-4dc5243aca73",
        "colab": {
          "base_uri": "https://localhost:8080/",
          "height": 34
        }
      },
      "source": [
        "G.nodes[0]['Lambda']/len(G[0])"
      ],
      "execution_count": 0,
      "outputs": [
        {
          "output_type": "execute_result",
          "data": {
            "text/plain": [
              "9.0"
            ]
          },
          "metadata": {
            "tags": []
          },
          "execution_count": 50
        }
      ]
    },
    {
      "cell_type": "code",
      "metadata": {
        "id": "SBMik8X8NY0K",
        "colab_type": "code",
        "outputId": "9dfed467-7d32-40f9-e3ae-5ee711d6e586",
        "colab": {
          "base_uri": "https://localhost:8080/",
          "height": 1000
        }
      },
      "source": [
        "sorted(G.nodes(data=True),key=lambda x: x[1]['Lambda'],reverse=True)"
      ],
      "execution_count": 0,
      "outputs": [
        {
          "output_type": "execute_result",
          "data": {
            "text/plain": [
              "[(61, {'Lambda': 36.0}),\n",
              " (41, {'Lambda': 34.0}),\n",
              " (0, {'Lambda': 29.0}),\n",
              " (63, {'Lambda': 29.0}),\n",
              " (1, {'Lambda': 0.0}),\n",
              " (2, {'Lambda': 0.0}),\n",
              " (3, {'Lambda': 0.0}),\n",
              " (4, {'Lambda': 0.0}),\n",
              " (5, {'Lambda': 0.0}),\n",
              " (6, {'Lambda': 0.0}),\n",
              " (7, {'Lambda': 0.0}),\n",
              " (8, {'Lambda': 0.0}),\n",
              " (9, {'Lambda': 0.0}),\n",
              " (10, {'Lambda': 0.0}),\n",
              " (11, {'Lambda': 0.0}),\n",
              " (12, {'Lambda': 0.0}),\n",
              " (13, {'Lambda': 0.0}),\n",
              " (14, {'Lambda': 0.0}),\n",
              " (15, {'Lambda': 0.0}),\n",
              " (16, {'Lambda': 0.0}),\n",
              " (17, {'Lambda': 0.0}),\n",
              " (18, {'Lambda': 0.0}),\n",
              " (19, {'Lambda': 0.0}),\n",
              " (20, {'Lambda': 0.0}),\n",
              " (21, {'Lambda': 0.0}),\n",
              " (22, {'Lambda': 0.0}),\n",
              " (23, {'Lambda': 0.0}),\n",
              " (24, {'Lambda': 0.0}),\n",
              " (25, {'Lambda': 0.0}),\n",
              " (26, {'Lambda': 0.0}),\n",
              " (27, {'Lambda': 0.0}),\n",
              " (28, {'Lambda': 0.0}),\n",
              " (29, {'Lambda': 0.0}),\n",
              " (30, {'Lambda': 0.0}),\n",
              " (31, {'Lambda': 0.0}),\n",
              " (32, {'Lambda': 0.0}),\n",
              " (33, {'Lambda': 0.0}),\n",
              " (34, {'Lambda': 0.0}),\n",
              " (35, {'Lambda': 0.0}),\n",
              " (36, {'Lambda': 0.0}),\n",
              " (37, {'Lambda': 0.0}),\n",
              " (38, {'Lambda': 0.0}),\n",
              " (39, {'Lambda': 0.0}),\n",
              " (40, {'Lambda': 0.0}),\n",
              " (42, {'Lambda': 0.0}),\n",
              " (43, {'Lambda': 0.0}),\n",
              " (44, {'Lambda': 0.0}),\n",
              " (45, {'Lambda': 0.0}),\n",
              " (46, {'Lambda': 0.0}),\n",
              " (47, {'Lambda': 0.0}),\n",
              " (48, {'Lambda': 0.0}),\n",
              " (49, {'Lambda': 0.0}),\n",
              " (50, {'Lambda': 0.0}),\n",
              " (51, {'Lambda': 0.0}),\n",
              " (52, {'Lambda': 0.0}),\n",
              " (53, {'Lambda': 0.0}),\n",
              " (54, {'Lambda': 0.0}),\n",
              " (55, {'Lambda': 0.0}),\n",
              " (56, {'Lambda': 0.0}),\n",
              " (57, {'Lambda': 0.0}),\n",
              " (58, {'Lambda': 0.0}),\n",
              " (59, {'Lambda': 0.0}),\n",
              " (60, {'Lambda': 0.0}),\n",
              " (62, {'Lambda': 0.0}),\n",
              " (64, {'Lambda': 0.0}),\n",
              " (65, {'Lambda': 0.0}),\n",
              " (66, {'Lambda': 0.0}),\n",
              " (67, {'Lambda': 0.0}),\n",
              " (68, {'Lambda': 0.0}),\n",
              " (69, {'Lambda': 0.0}),\n",
              " (70, {'Lambda': 0.0}),\n",
              " (71, {'Lambda': 0.0}),\n",
              " (72, {'Lambda': 0.0}),\n",
              " (73, {'Lambda': 0.0}),\n",
              " (74, {'Lambda': 0.0}),\n",
              " (75, {'Lambda': 0.0}),\n",
              " (76, {'Lambda': 0.0}),\n",
              " (77, {'Lambda': 0.0}),\n",
              " (78, {'Lambda': 0.0}),\n",
              " (79, {'Lambda': 0.0}),\n",
              " (80, {'Lambda': 0.0}),\n",
              " (81, {'Lambda': 0.0}),\n",
              " (82, {'Lambda': 0.0}),\n",
              " (83, {'Lambda': 0.0}),\n",
              " (84, {'Lambda': 0.0}),\n",
              " (85, {'Lambda': 0.0}),\n",
              " (86, {'Lambda': 0.0}),\n",
              " (87, {'Lambda': 0.0}),\n",
              " (88, {'Lambda': 0.0}),\n",
              " (89, {'Lambda': 0.0}),\n",
              " (90, {'Lambda': 0.0}),\n",
              " (91, {'Lambda': 0.0}),\n",
              " (92, {'Lambda': 0.0}),\n",
              " (93, {'Lambda': 0.0}),\n",
              " (94, {'Lambda': 0.0}),\n",
              " (95, {'Lambda': 0.0}),\n",
              " (96, {'Lambda': 0.0}),\n",
              " (97, {'Lambda': 0.0}),\n",
              " (98, {'Lambda': 0.0}),\n",
              " (99, {'Lambda': 0.0})]"
            ]
          },
          "metadata": {
            "tags": []
          },
          "execution_count": 56
        }
      ]
    },
    {
      "cell_type": "markdown",
      "metadata": {
        "id": "9Gj4iSxBiDyI",
        "colab_type": "text"
      },
      "source": [
        "**Validate the algorithm using PageRank eigenvector calculation**"
      ]
    },
    {
      "cell_type": "code",
      "metadata": {
        "id": "4-eu72CkPA3M",
        "colab_type": "code",
        "outputId": "1fe4d935-201b-4cf1-ceba-5e94469696c9",
        "colab": {
          "base_uri": "https://localhost:8080/",
          "height": 1000
        }
      },
      "source": [
        "sorted(nx.algorithms.link_analysis.pagerank_alg.pagerank(G_validate).items(), key=lambda x:x[1],reverse=True)"
      ],
      "execution_count": 0,
      "outputs": [
        {
          "output_type": "execute_result",
          "data": {
            "text/plain": [
              "[(0, 0.05429379451850332),\n",
              " (41, 0.05429379451850332),\n",
              " (61, 0.05429379451850332),\n",
              " (63, 0.05429379451850332),\n",
              " (1, 0.00815442522839569),\n",
              " (2, 0.00815442522839569),\n",
              " (3, 0.00815442522839569),\n",
              " (4, 0.00815442522839569),\n",
              " (5, 0.00815442522839569),\n",
              " (6, 0.00815442522839569),\n",
              " (7, 0.00815442522839569),\n",
              " (8, 0.00815442522839569),\n",
              " (9, 0.00815442522839569),\n",
              " (10, 0.00815442522839569),\n",
              " (11, 0.00815442522839569),\n",
              " (12, 0.00815442522839569),\n",
              " (13, 0.00815442522839569),\n",
              " (14, 0.00815442522839569),\n",
              " (15, 0.00815442522839569),\n",
              " (16, 0.00815442522839569),\n",
              " (17, 0.00815442522839569),\n",
              " (18, 0.00815442522839569),\n",
              " (19, 0.00815442522839569),\n",
              " (20, 0.00815442522839569),\n",
              " (21, 0.00815442522839569),\n",
              " (22, 0.00815442522839569),\n",
              " (23, 0.00815442522839569),\n",
              " (24, 0.00815442522839569),\n",
              " (25, 0.00815442522839569),\n",
              " (26, 0.00815442522839569),\n",
              " (27, 0.00815442522839569),\n",
              " (28, 0.00815442522839569),\n",
              " (29, 0.00815442522839569),\n",
              " (30, 0.00815442522839569),\n",
              " (31, 0.00815442522839569),\n",
              " (32, 0.00815442522839569),\n",
              " (33, 0.00815442522839569),\n",
              " (34, 0.00815442522839569),\n",
              " (35, 0.00815442522839569),\n",
              " (36, 0.00815442522839569),\n",
              " (37, 0.00815442522839569),\n",
              " (38, 0.00815442522839569),\n",
              " (39, 0.00815442522839569),\n",
              " (40, 0.00815442522839569),\n",
              " (42, 0.00815442522839569),\n",
              " (43, 0.00815442522839569),\n",
              " (44, 0.00815442522839569),\n",
              " (45, 0.00815442522839569),\n",
              " (46, 0.00815442522839569),\n",
              " (47, 0.00815442522839569),\n",
              " (48, 0.00815442522839569),\n",
              " (49, 0.00815442522839569),\n",
              " (50, 0.00815442522839569),\n",
              " (51, 0.00815442522839569),\n",
              " (52, 0.00815442522839569),\n",
              " (53, 0.00815442522839569),\n",
              " (54, 0.00815442522839569),\n",
              " (55, 0.00815442522839569),\n",
              " (56, 0.00815442522839569),\n",
              " (57, 0.00815442522839569),\n",
              " (58, 0.00815442522839569),\n",
              " (59, 0.00815442522839569),\n",
              " (60, 0.00815442522839569),\n",
              " (62, 0.00815442522839569),\n",
              " (64, 0.00815442522839569),\n",
              " (65, 0.00815442522839569),\n",
              " (66, 0.00815442522839569),\n",
              " (67, 0.00815442522839569),\n",
              " (68, 0.00815442522839569),\n",
              " (69, 0.00815442522839569),\n",
              " (70, 0.00815442522839569),\n",
              " (71, 0.00815442522839569),\n",
              " (72, 0.00815442522839569),\n",
              " (73, 0.00815442522839569),\n",
              " (74, 0.00815442522839569),\n",
              " (75, 0.00815442522839569),\n",
              " (76, 0.00815442522839569),\n",
              " (77, 0.00815442522839569),\n",
              " (78, 0.00815442522839569),\n",
              " (79, 0.00815442522839569),\n",
              " (80, 0.00815442522839569),\n",
              " (81, 0.00815442522839569),\n",
              " (82, 0.00815442522839569),\n",
              " (83, 0.00815442522839569),\n",
              " (84, 0.00815442522839569),\n",
              " (85, 0.00815442522839569),\n",
              " (86, 0.00815442522839569),\n",
              " (87, 0.00815442522839569),\n",
              " (88, 0.00815442522839569),\n",
              " (89, 0.00815442522839569),\n",
              " (90, 0.00815442522839569),\n",
              " (91, 0.00815442522839569),\n",
              " (92, 0.00815442522839569),\n",
              " (93, 0.00815442522839569),\n",
              " (94, 0.00815442522839569),\n",
              " (95, 0.00815442522839569),\n",
              " (96, 0.00815442522839569),\n",
              " (97, 0.00815442522839569),\n",
              " (98, 0.00815442522839569),\n",
              " (99, 0.00815442522839569)]"
            ]
          },
          "metadata": {
            "tags": []
          },
          "execution_count": 54
        }
      ]
    },
    {
      "cell_type": "markdown",
      "metadata": {
        "id": "xBqmKZ_SC-fy",
        "colab_type": "text"
      },
      "source": [
        "#### Random Walk"
      ]
    },
    {
      "cell_type": "markdown",
      "metadata": {
        "id": "w35OHYliaHIB",
        "colab_type": "text"
      },
      "source": [
        "We can use random walk to traverse the network through the directed links and record the probability of walking to each node. The probability will likely to converge after a long run of simulation, which can help us rank the nodes."
      ]
    },
    {
      "cell_type": "code",
      "metadata": {
        "id": "TT29LwiN5CKf",
        "colab_type": "code",
        "colab": {}
      },
      "source": [
        "import networkx as nx\n",
        "import random\n",
        "import numpy as np\n",
        "\n",
        "G = nx.generators.directed.gnr_graph(100,p=0.2) # Construct a scale-free graph with 100 nodes.\n",
        "\n",
        "G = nx.generators.stochastic_graph(G, copy=True) # Initialize the directed graph so that the sum of all the edges coming out from one node is 1.\n",
        "\n",
        "walks = []\n",
        "\n",
        "# Try random walk for 10 times, each with 10000 steps.\n",
        "\n",
        "for _ in range(10):\n",
        "\n",
        "    start_node = random.choice(list(G.nodes()))\n",
        "    current_node = start_node\n",
        "    result = {}\n",
        "    result[str(start_node)] = 1\n",
        "\n",
        "    for _ in range(10000):\n",
        "\n",
        "        \"\"\"\n",
        "        # Random restart.   \n",
        "\n",
        "        seed = random.random()\n",
        "        if seed < 0.05:\n",
        "            current_node = random.choice(list(G.nodes()))\n",
        "        \"\"\"\n",
        "        neighbor = G[current_node]\n",
        "        \n",
        "        # If meet a dead end, restart.\n",
        "\n",
        "        while len(list(neighbor.keys())) == 0:\n",
        "            current_node = random.choice(list(G.nodes()))\n",
        "            neighbor = G[current_node]\n",
        "\n",
        "        # Walk to the next node.\n",
        "        next_node =  random.choice(list(neighbor.keys()))\n",
        "\n",
        "        if str(next_node) in result:\n",
        "            result[str(next_node)] += 1\n",
        "        else:\n",
        "            result[str(next_node)] = 1\n",
        "\n",
        "        current_node = next_node\n",
        "\n",
        "    walks.append(result)"
      ],
      "execution_count": 0,
      "outputs": []
    },
    {
      "cell_type": "code",
      "metadata": {
        "id": "FK0TOB07dy1n",
        "colab_type": "code",
        "colab": {}
      },
      "source": [
        "# Normalize the result.\n",
        "for w in walks:\n",
        "    normalize = np.sum(list(w.values()))\n",
        "    for key, value in w.items():    \n",
        "        w[key] = value/normalize"
      ],
      "execution_count": 0,
      "outputs": []
    },
    {
      "cell_type": "code",
      "metadata": {
        "id": "1jqlDAtH6Out",
        "colab_type": "code",
        "outputId": "c178dd54-ee5f-428a-b68d-f4f57364e1da",
        "colab": {
          "base_uri": "https://localhost:8080/",
          "height": 833
        }
      },
      "source": [
        "walks[5]"
      ],
      "execution_count": 0,
      "outputs": [
        {
          "output_type": "execute_result",
          "data": {
            "text/plain": [
              "{'0': 0.21977802219778023,\n",
              " '1': 0.14338566143385661,\n",
              " '10': 0.0024997500249975004,\n",
              " '13': 0.057394260573942604,\n",
              " '15': 0.0374962503749625,\n",
              " '16': 0.0033996600339966003,\n",
              " '17': 0.006999300069993001,\n",
              " '18': 0.015198480151984802,\n",
              " '19': 0.007099290070992901,\n",
              " '2': 0.013998600139986002,\n",
              " '20': 0.0047995200479952005,\n",
              " '21': 0.026797320267973202,\n",
              " '23': 0.004999500049995001,\n",
              " '24': 0.0026997300269973002,\n",
              " '25': 0.007499250074992501,\n",
              " '26': 0.006899310068993101,\n",
              " '27': 0.0047995200479952005,\n",
              " '28': 0.0021997800219978004,\n",
              " '3': 0.03519648035196481,\n",
              " '31': 0.012698730126987301,\n",
              " '32': 0.0066993300669933005,\n",
              " '33': 0.0026997300269973002,\n",
              " '35': 0.004899510048995101,\n",
              " '38': 0.0020997900209979003,\n",
              " '39': 0.007999200079992,\n",
              " '4': 0.0888911108889111,\n",
              " '44': 0.004199580041995801,\n",
              " '48': 0.0030996900309969004,\n",
              " '49': 0.006399360063993601,\n",
              " '5': 0.08159184081591841,\n",
              " '50': 0.0034996500349965005,\n",
              " '51': 0.0033996600339966003,\n",
              " '52': 0.0037996200379962005,\n",
              " '56': 0.0014998500149985001,\n",
              " '59': 0.009999000099990002,\n",
              " '6': 0.031196880311968805,\n",
              " '61': 0.0020997900209979003,\n",
              " '62': 0.0026997300269973002,\n",
              " '64': 0.007899210078992101,\n",
              " '65': 0.0018998100189981002,\n",
              " '7': 0.0745925407459254,\n",
              " '75': 0.0020997900209979003,\n",
              " '8': 0.0017998200179982,\n",
              " '80': 0.0044995500449955,\n",
              " '82': 0.0023997600239976003,\n",
              " '84': 0.0021997800219978004,\n",
              " '89': 0.0025997400259974,\n",
              " '9': 0.0173982601739826}"
            ]
          },
          "metadata": {
            "tags": []
          },
          "execution_count": 33
        }
      ]
    },
    {
      "cell_type": "markdown",
      "metadata": {
        "id": "wIYUHOQLa-du",
        "colab_type": "text"
      },
      "source": [
        "**Validate random walk with eigenvector.**"
      ]
    },
    {
      "cell_type": "markdown",
      "metadata": {
        "id": "HegIEiftZ1Sa",
        "colab_type": "text"
      },
      "source": [
        "Use networkX library's built in PageRank algorithm validate random walk results."
      ]
    },
    {
      "cell_type": "code",
      "metadata": {
        "id": "HT_pukWia81G",
        "colab_type": "code",
        "outputId": "0334b243-fdca-4f10-f8d8-bc09ffb77816",
        "colab": {
          "base_uri": "https://localhost:8080/",
          "height": 1000
        }
      },
      "source": [
        "nx.algorithms.link_analysis.pagerank_alg.pagerank(G)"
      ],
      "execution_count": 0,
      "outputs": [
        {
          "output_type": "execute_result",
          "data": {
            "text/plain": [
              "{0: 0.08408320312222911,\n",
              " 1: 0.1310830105533417,\n",
              " 2: 0.03678346003860284,\n",
              " 3: 0.04357512499210723,\n",
              " 4: 0.003328829587229152,\n",
              " 5: 0.015842974845904387,\n",
              " 6: 0.05143161594742687,\n",
              " 7: 0.006158593635067966,\n",
              " 8: 0.025542535172436653,\n",
              " 9: 0.0342851752599663,\n",
              " 10: 0.03535464873819295,\n",
              " 11: 0.017580437251531137,\n",
              " 12: 0.003328829587229152,\n",
              " 13: 0.036422005450593056,\n",
              " 14: 0.010607853547729773,\n",
              " 15: 0.006158593635067966,\n",
              " 16: 0.006158593635067966,\n",
              " 17: 0.003328829587229152,\n",
              " 18: 0.01139371493324258,\n",
              " 19: 0.031957566422235406,\n",
              " 20: 0.003328829587229152,\n",
              " 21: 0.003328829587229152,\n",
              " 22: 0.006158593635067966,\n",
              " 23: 0.008563950885403767,\n",
              " 24: 0.003328829587229152,\n",
              " 25: 0.006158593635067966,\n",
              " 26: 0.013437617595568586,\n",
              " 27: 0.01705324302892021,\n",
              " 28: 0.01139371493324258,\n",
              " 29: 0.016628836231417192,\n",
              " 30: 0.006158593635067966,\n",
              " 31: 0.01139371493324258,\n",
              " 32: 0.008988357682906779,\n",
              " 33: 0.008563950885403767,\n",
              " 34: 0.003328829587229152,\n",
              " 35: 0.006158593635067966,\n",
              " 36: 0.006158593635067966,\n",
              " 37: 0.006158593635067966,\n",
              " 38: 0.003328829587229152,\n",
              " 39: 0.003328829587229152,\n",
              " 40: 0.008563950885403767,\n",
              " 41: 0.003328829587229152,\n",
              " 42: 0.006158593635067966,\n",
              " 43: 0.006158593635067966,\n",
              " 44: 0.003328829587229152,\n",
              " 45: 0.003328829587229152,\n",
              " 46: 0.003328829587229152,\n",
              " 47: 0.003328829587229152,\n",
              " 48: 0.006158593635067966,\n",
              " 49: 0.003328829587229152,\n",
              " 50: 0.003328829587229152,\n",
              " 51: 0.006158593635067966,\n",
              " 52: 0.003328829587229152,\n",
              " 53: 0.006158593635067966,\n",
              " 54: 0.008563950885403767,\n",
              " 55: 0.006158593635067966,\n",
              " 56: 0.006158593635067966,\n",
              " 57: 0.003328829587229152,\n",
              " 58: 0.006158593635067966,\n",
              " 59: 0.006158593635067966,\n",
              " 60: 0.006158593635067966,\n",
              " 61: 0.003328829587229152,\n",
              " 62: 0.003328829587229152,\n",
              " 63: 0.006158593635067966,\n",
              " 64: 0.003328829587229152,\n",
              " 65: 0.006158593635067966,\n",
              " 66: 0.003328829587229152,\n",
              " 67: 0.003328829587229152,\n",
              " 68: 0.003328829587229152,\n",
              " 69: 0.003328829587229152,\n",
              " 70: 0.003328829587229152,\n",
              " 71: 0.003328829587229152,\n",
              " 72: 0.006158593635067966,\n",
              " 73: 0.003328829587229152,\n",
              " 74: 0.003328829587229152,\n",
              " 75: 0.006158593635067966,\n",
              " 76: 0.003328829587229152,\n",
              " 77: 0.003328829587229152,\n",
              " 78: 0.003328829587229152,\n",
              " 79: 0.003328829587229152,\n",
              " 80: 0.003328829587229152,\n",
              " 81: 0.003328829587229152,\n",
              " 82: 0.003328829587229152,\n",
              " 83: 0.003328829587229152,\n",
              " 84: 0.003328829587229152,\n",
              " 85: 0.003328829587229152,\n",
              " 86: 0.003328829587229152,\n",
              " 87: 0.006158593635067966,\n",
              " 88: 0.003328829587229152,\n",
              " 89: 0.003328829587229152,\n",
              " 90: 0.003328829587229152,\n",
              " 91: 0.003328829587229152,\n",
              " 92: 0.003328829587229152,\n",
              " 93: 0.003328829587229152,\n",
              " 94: 0.003328829587229152,\n",
              " 95: 0.003328829587229152,\n",
              " 96: 0.003328829587229152,\n",
              " 97: 0.003328829587229152,\n",
              " 98: 0.003328829587229152,\n",
              " 99: 0.003328829587229152}"
            ]
          },
          "metadata": {
            "tags": []
          },
          "execution_count": 22
        }
      ]
    }
  ]
}